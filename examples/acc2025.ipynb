{
 "cells": [
  {
   "cell_type": "code",
   "execution_count": 1,
   "metadata": {},
   "outputs": [],
   "source": [
    "import numpy as np\n",
    "import pickle\n",
    "from scipy.linalg import sqrtm, inv\n",
    "import importlib\n",
    "import time\n",
    "import sys\n",
    "\n",
    "def load_solver(pth, name):\n",
    "    # load the serialized problem formulation\n",
    "    with open(pth + '/' + name + '/problem.pickle', 'rb') as f:\n",
    "        problem = pickle.load(f)\n",
    "        print(f'Problem {name} loaded from path: {'../' + pth}')\n",
    "    return problem\n",
    "\n",
    "def load_parameters(pth, name):\n",
    "    pars = np.load(pth + name)\n",
    "    print(f'Parameters {name} loaded from path: {'../' + pth}')\n",
    "    return pars\n",
    "\n",
    "def set_parameters(model, data, problem):\n",
    "    # assign parameter values\n",
    "    problem.param_dict['Q_v_inv_sqrt'].value = sqrtm( inv(model['Q_v']) )\n",
    "    problem.param_dict['Q_w_inv_sqrt'].value = sqrtm( inv(model['Q_w']) )\n",
    "    problem.param_dict['Q_u_inv_sqrt'].value = sqrtm( inv(model['Q_u'])  )\n",
    "    problem.param_dict['A'].value = model['A']\n",
    "    problem.param_dict['B'].value = model['B']\n",
    "    problem.param_dict['C'].value = model['C']\n",
    "    problem.param_dict['x0'].value = np.zeros(model['n_states'])\n",
    "    problem.param_dict['y'].value = data['y']\n",
    "\n",
    "def reload_module(module_name):\n",
    "    if module_name in sys.modules:\n",
    "        del sys.modules[module_name]\n",
    "    importlib.import_module(module_name)\n",
    "\n",
    "def import_cpg_solver(problem, pth):\n",
    "    module_path = f'{pth}.{problem}.cpg_solver'\n",
    "    # Dynamically import the module\n",
    "    cpg_solver_module = importlib.import_module(module_path)\n",
    "\n",
    "    # Get the cpg_solve function from the module\n",
    "    cpg_solve = getattr(cpg_solver_module, 'cpg_solve')\n",
    "    return cpg_solve\n",
    "\n",
    "def solve_cvxpy(problem):\n",
    "    # solve problem with CVXPY\n",
    "    t0 = time.time()\n",
    "    val = problem.solve(eps_abs=1e-3, eps_rel=1e-3, max_iter=4000, polish=False)\n",
    "    t1 = time.time()\n",
    "    print('\\nCVXPY\\nSolve time: %.3f ms' % (1000 * (t1 - t0)))\n",
    "    print('Objective function value: %.6f\\n' % val)\n",
    "\n",
    "def solve_cvxpygen(problem, cpg_solve):\n",
    "    # solve problem with C code via python wrapper\n",
    "    problem.register_solve('CPG', cpg_solve)\n",
    "    t0 = time.time()\n",
    "    val = problem.solve(method='CPG')\n",
    "    t1 = time.time()\n",
    "    print('\\nCVXPYgen\\nSolve time: %.3f ms' % (1000 * (t1 - t0)))\n",
    "    print('Objective function value: %.6f\\n' % val)\n",
    "    \n"
   ]
  },
  {
   "cell_type": "code",
   "execution_count": 2,
   "metadata": {},
   "outputs": [
    {
     "name": "stdout",
     "output_type": "stream",
     "text": [
      "Parameters data_lumped_element_2.npz loaded from path: ../../datasets/\n",
      "Parameters data_lumped_element_4.npz loaded from path: ../../datasets/\n",
      "Parameters data_lumped_element_8.npz loaded from path: ../../datasets/\n",
      "Parameters lumped_element_2.npz loaded from path: ../../models/\n",
      "Parameters lumped_element_4.npz loaded from path: ../../models/\n",
      "Parameters lumped_element_8.npz loaded from path: ../../models/\n",
      "Problem mh_sise_tikhonov_2 loaded from path: ../../codegen/\n",
      "Problem mh_sise_tikhonov_4 loaded from path: ../../codegen/\n",
      "Problem mh_sise_tikhonov_8 loaded from path: ../../codegen/\n"
     ]
    }
   ],
   "source": [
    "# load data\n",
    "pth = '../datasets/'\n",
    "data_lumped_element_2 = load_parameters(pth, 'data_lumped_element_2.npz')\n",
    "data_lumped_element_4 = load_parameters(pth, 'data_lumped_element_4.npz')\n",
    "data_lumped_element_8 = load_parameters(pth, 'data_lumped_element_8.npz')\n",
    "\n",
    "# laod models\n",
    "pth = '../models/'\n",
    "model_lumped_element_2 = load_parameters(pth, 'lumped_element_2.npz')\n",
    "model_lumped_element_4 = load_parameters(pth, 'lumped_element_4.npz')\n",
    "model_lumped_element_8 = load_parameters(pth, 'lumped_element_8.npz')\n",
    "\n",
    "# load problems\n",
    "pth = '../codegen/'\n",
    "mh_sise_tikhonov_2 = load_solver(pth, 'mh_sise_tikhonov_2')\n",
    "mh_sise_tikhonov_4 = load_solver(pth, 'mh_sise_tikhonov_4')\n",
    "mh_sise_tikhonov_8 = load_solver(pth, 'mh_sise_tikhonov_8')"
   ]
  },
  {
   "cell_type": "code",
   "execution_count": 3,
   "metadata": {},
   "outputs": [],
   "source": [
    "\n",
    "# set solver parameters\n",
    "set_parameters(model=model_lumped_element_2, data=data_lumped_element_2, problem=mh_sise_tikhonov_2)\n",
    "set_parameters(model=model_lumped_element_4, data=data_lumped_element_4, problem=mh_sise_tikhonov_4)\n",
    "set_parameters(model=model_lumped_element_8, data=data_lumped_element_8, problem=mh_sise_tikhonov_8)\n"
   ]
  },
  {
   "cell_type": "code",
   "execution_count": 4,
   "metadata": {},
   "outputs": [
    {
     "name": "stdout",
     "output_type": "stream",
     "text": [
      "\n",
      "CVXPY\n",
      "Solve time: 28.006 ms\n",
      "Objective function value: 14.754511\n",
      "\n",
      "\n",
      "CVXPY\n",
      "Solve time: 43.009 ms\n",
      "Objective function value: 15.436318\n",
      "\n",
      "\n",
      "CVXPY\n",
      "Solve time: 142.033 ms\n",
      "Objective function value: 30.532575\n",
      "\n"
     ]
    },
    {
     "ename": "ImportError",
     "evalue": "generic_type: type \"cpg_params\" is already registered!",
     "output_type": "error",
     "traceback": [
      "\u001b[1;31m---------------------------------------------------------------------------\u001b[0m",
      "\u001b[1;31mImportError\u001b[0m                               Traceback (most recent call last)",
      "Cell \u001b[1;32mIn[4], line 8\u001b[0m\n\u001b[0;32m      6\u001b[0m \u001b[38;5;66;03m# ########## CVXPYGEN ###########\u001b[39;00m\n\u001b[0;32m      7\u001b[0m cpg_solve_2 \u001b[38;5;241m=\u001b[39m import_cpg_solver(problem\u001b[38;5;241m=\u001b[39m\u001b[38;5;124m'\u001b[39m\u001b[38;5;124mmh_sise_tikhonov_2\u001b[39m\u001b[38;5;124m'\u001b[39m, pth\u001b[38;5;241m=\u001b[39m\u001b[38;5;124m'\u001b[39m\u001b[38;5;124mcodegen\u001b[39m\u001b[38;5;124m'\u001b[39m)\n\u001b[1;32m----> 8\u001b[0m cpg_solve_4 \u001b[38;5;241m=\u001b[39m \u001b[43mimport_cpg_solver\u001b[49m\u001b[43m(\u001b[49m\u001b[43mproblem\u001b[49m\u001b[38;5;241;43m=\u001b[39;49m\u001b[38;5;124;43m'\u001b[39;49m\u001b[38;5;124;43mmh_sise_tikhonov_4\u001b[39;49m\u001b[38;5;124;43m'\u001b[39;49m\u001b[43m,\u001b[49m\u001b[43m \u001b[49m\u001b[43mpth\u001b[49m\u001b[38;5;241;43m=\u001b[39;49m\u001b[38;5;124;43m'\u001b[39;49m\u001b[38;5;124;43mcodegen\u001b[39;49m\u001b[38;5;124;43m'\u001b[39;49m\u001b[43m)\u001b[49m\n\u001b[0;32m      9\u001b[0m cpg_solve_8 \u001b[38;5;241m=\u001b[39m import_cpg_solver(problem\u001b[38;5;241m=\u001b[39m\u001b[38;5;124m'\u001b[39m\u001b[38;5;124mmh_sise_tikhonov_8\u001b[39m\u001b[38;5;124m'\u001b[39m, pth\u001b[38;5;241m=\u001b[39m\u001b[38;5;124m'\u001b[39m\u001b[38;5;124mcodegen\u001b[39m\u001b[38;5;124m'\u001b[39m)\n\u001b[0;32m     11\u001b[0m solve_cvxpygen(mh_sise_tikhonov_2, cpg_solve_2)\n",
      "Cell \u001b[1;32mIn[1], line 39\u001b[0m, in \u001b[0;36mimport_cpg_solver\u001b[1;34m(problem, pth)\u001b[0m\n\u001b[0;32m     37\u001b[0m module_path \u001b[38;5;241m=\u001b[39m \u001b[38;5;124mf\u001b[39m\u001b[38;5;124m'\u001b[39m\u001b[38;5;132;01m{\u001b[39;00mpth\u001b[38;5;132;01m}\u001b[39;00m\u001b[38;5;124m.\u001b[39m\u001b[38;5;132;01m{\u001b[39;00mproblem\u001b[38;5;132;01m}\u001b[39;00m\u001b[38;5;124m.cpg_solver\u001b[39m\u001b[38;5;124m'\u001b[39m\n\u001b[0;32m     38\u001b[0m \u001b[38;5;66;03m# Dynamically import the module\u001b[39;00m\n\u001b[1;32m---> 39\u001b[0m cpg_solver_module \u001b[38;5;241m=\u001b[39m \u001b[43mimportlib\u001b[49m\u001b[38;5;241;43m.\u001b[39;49m\u001b[43mimport_module\u001b[49m\u001b[43m(\u001b[49m\u001b[43mmodule_path\u001b[49m\u001b[43m)\u001b[49m\n\u001b[0;32m     41\u001b[0m \u001b[38;5;66;03m# Get the cpg_solve function from the module\u001b[39;00m\n\u001b[0;32m     42\u001b[0m cpg_solve \u001b[38;5;241m=\u001b[39m \u001b[38;5;28mgetattr\u001b[39m(cpg_solver_module, \u001b[38;5;124m'\u001b[39m\u001b[38;5;124mcpg_solve\u001b[39m\u001b[38;5;124m'\u001b[39m)\n",
      "File \u001b[1;32mc:\\Users\\Mikael\\miniconda3\\envs\\mh-sise-env\\Lib\\importlib\\__init__.py:90\u001b[0m, in \u001b[0;36mimport_module\u001b[1;34m(name, package)\u001b[0m\n\u001b[0;32m     88\u001b[0m             \u001b[38;5;28;01mbreak\u001b[39;00m\n\u001b[0;32m     89\u001b[0m         level \u001b[38;5;241m+\u001b[39m\u001b[38;5;241m=\u001b[39m \u001b[38;5;241m1\u001b[39m\n\u001b[1;32m---> 90\u001b[0m \u001b[38;5;28;01mreturn\u001b[39;00m \u001b[43m_bootstrap\u001b[49m\u001b[38;5;241;43m.\u001b[39;49m\u001b[43m_gcd_import\u001b[49m\u001b[43m(\u001b[49m\u001b[43mname\u001b[49m\u001b[43m[\u001b[49m\u001b[43mlevel\u001b[49m\u001b[43m:\u001b[49m\u001b[43m]\u001b[49m\u001b[43m,\u001b[49m\u001b[43m \u001b[49m\u001b[43mpackage\u001b[49m\u001b[43m,\u001b[49m\u001b[43m \u001b[49m\u001b[43mlevel\u001b[49m\u001b[43m)\u001b[49m\n",
      "File \u001b[1;32m<frozen importlib._bootstrap>:1387\u001b[0m, in \u001b[0;36m_gcd_import\u001b[1;34m(name, package, level)\u001b[0m\n",
      "File \u001b[1;32m<frozen importlib._bootstrap>:1360\u001b[0m, in \u001b[0;36m_find_and_load\u001b[1;34m(name, import_)\u001b[0m\n",
      "File \u001b[1;32m<frozen importlib._bootstrap>:1331\u001b[0m, in \u001b[0;36m_find_and_load_unlocked\u001b[1;34m(name, import_)\u001b[0m\n",
      "File \u001b[1;32m<frozen importlib._bootstrap>:935\u001b[0m, in \u001b[0;36m_load_unlocked\u001b[1;34m(spec)\u001b[0m\n",
      "File \u001b[1;32m<frozen importlib._bootstrap_external>:995\u001b[0m, in \u001b[0;36mexec_module\u001b[1;34m(self, module)\u001b[0m\n",
      "File \u001b[1;32m<frozen importlib._bootstrap>:488\u001b[0m, in \u001b[0;36m_call_with_frames_removed\u001b[1;34m(f, *args, **kwds)\u001b[0m\n",
      "File \u001b[1;32mc:\\users\\mikael\\documents\\github\\novia-rdi-seafaring\\mh-sise-py\\codegen\\mh_sise_tikhonov_4\\cpg_solver.py:12\u001b[0m\n\u001b[0;32m     10\u001b[0m \u001b[38;5;28;01mfrom\u001b[39;00m \u001b[38;5;21;01mcvxpy\u001b[39;00m\u001b[38;5;21;01m.\u001b[39;00m\u001b[38;5;21;01mreductions\u001b[39;00m \u001b[38;5;28;01mimport\u001b[39;00m Solution\n\u001b[0;32m     11\u001b[0m \u001b[38;5;28;01mfrom\u001b[39;00m \u001b[38;5;21;01mcvxpy\u001b[39;00m\u001b[38;5;21;01m.\u001b[39;00m\u001b[38;5;21;01mproblems\u001b[39;00m\u001b[38;5;21;01m.\u001b[39;00m\u001b[38;5;21;01mproblem\u001b[39;00m \u001b[38;5;28;01mimport\u001b[39;00m SolverStats\n\u001b[1;32m---> 12\u001b[0m \u001b[38;5;28;01mfrom\u001b[39;00m \u001b[38;5;21;01mcodegen\u001b[39;00m\u001b[38;5;21;01m.\u001b[39;00m\u001b[38;5;21;01mmh_sise_tikhonov_4\u001b[39;00m \u001b[38;5;28;01mimport\u001b[39;00m cpg_module\n\u001b[0;32m     15\u001b[0m standard_settings_names \u001b[38;5;241m=\u001b[39m {\u001b[38;5;124m\"\u001b[39m\u001b[38;5;124mmax_iters\u001b[39m\u001b[38;5;124m\"\u001b[39m: \u001b[38;5;124m\"\u001b[39m\u001b[38;5;124mmaxit\u001b[39m\u001b[38;5;124m\"\u001b[39m}\n\u001b[0;32m     18\u001b[0m \u001b[38;5;28;01mdef\u001b[39;00m \u001b[38;5;21mcpg_solve\u001b[39m(prob, updated_params\u001b[38;5;241m=\u001b[39m\u001b[38;5;28;01mNone\u001b[39;00m, \u001b[38;5;241m*\u001b[39m\u001b[38;5;241m*\u001b[39mkwargs):\n\u001b[0;32m     19\u001b[0m \n\u001b[0;32m     20\u001b[0m     \u001b[38;5;66;03m# set flags for updated parameters\u001b[39;00m\n",
      "\u001b[1;31mImportError\u001b[0m: generic_type: type \"cpg_params\" is already registered!"
     ]
    }
   ],
   "source": [
    "# ########## CVXPY ###########\n",
    "solve_cvxpy(mh_sise_tikhonov_2)\n",
    "solve_cvxpy(mh_sise_tikhonov_4)\n",
    "solve_cvxpy(mh_sise_tikhonov_8)\n",
    "\n",
    "# ########## CVXPYGEN ###########\n",
    "cpg_solve_2 = import_cpg_solver(problem='mh_sise_tikhonov_2', pth='codegen')\n",
    "cpg_solve_4 = import_cpg_solver(problem='mh_sise_tikhonov_4', pth='codegen')\n",
    "cpg_solve_8 = import_cpg_solver(problem='mh_sise_tikhonov_8', pth='codegen')\n",
    "\n",
    "solve_cvxpygen(mh_sise_tikhonov_2, cpg_solve_2)\n",
    "solve_cvxpygen(mh_sise_tikhonov_4, cpg_solve_4)\n",
    "solve_cvxpygen(mh_sise_tikhonov_8, cpg_solve_8)"
   ]
  }
 ],
 "metadata": {
  "kernelspec": {
   "display_name": "mh-sise-env",
   "language": "python",
   "name": "python3"
  },
  "language_info": {
   "codemirror_mode": {
    "name": "ipython",
    "version": 3
   },
   "file_extension": ".py",
   "mimetype": "text/x-python",
   "name": "python",
   "nbconvert_exporter": "python",
   "pygments_lexer": "ipython3",
   "version": "3.12.4"
  }
 },
 "nbformat": 4,
 "nbformat_minor": 2
}
