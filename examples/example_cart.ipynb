{
 "cells": [
  {
   "cell_type": "markdown",
   "metadata": {},
   "source": [
    "# Example: Moving-Horizon Simulataneous Input-and-State Estimation\n",
    "In this example, we consider a discrete-time linear time-invariant (LTI) system of the form:\n",
    "\n",
    "$$\n",
    "\\begin{align*}\n",
    "x_{k+1} &= Ax_k + Bu_k + w_k \\\\\n",
    "y_k &= Cx_k + v_k\n",
    "\\end{align*}\n",
    "$$\n",
    "with\n",
    "- $x_k \\in \\mathbb{R}^n$ represents the system state at time step $k$,\n",
    "- $u_k \\in \\mathbb{R}^m$ is the control input at time step $k$,\n",
    "- $y_k \\in \\mathbb{R}^p$ is a vector of measured outputs at time step $k$,\n",
    "- $w_k \\in \\mathbb{R}^n$ and $v_k \\in \\mathbb{R}^p$ are process and measurement noise, respectively,\n",
    "- $A \\in \\mathbb{R}^{n \\times n}$, $B \\in \\mathbb{R}^{n \\times m}$, and $C \\in \\mathbb{R}^{p \\times n}$ are system matrices describing the dynamics and observation model.\n"
   ]
  },
  {
   "cell_type": "markdown",
   "metadata": {},
   "source": [
    "### Example LTI system\n",
    "Consider the slidingn cart system\n",
    "\n",
    "![cart](https://raw.githubusercontent.com/mmanngard/VirtualSensors/a079e1fe01148c749caa5fd2745499da8c11a760/notebooks/cart.drawio.svg)\n",
    "\n",
    "where $\\mu$ is a friction coefficient, and $F$ is a force applied to the cart.\n",
    "\n",
    "It is surprising how often this simple school book example can be used to approximate real-world systems! Newton's laws of motion with (net force $F$ equals mass $m$ times acceleration $\\ddot{x}$) gives\n",
    "\\begin{equation*}\n",
    "m\\ddot{x} = F - \\mu\\dot{x},\n",
    "\\end{equation*}\n",
    "which is a second-order differential equation. This can be rewritten as a set of first-order differential equation by defining new states:\n",
    "- Position: $x_1=x$\n",
    "- Velocity: $x_2=\\dot{x}$,\n",
    "\n",
    "and input:\n",
    "\n",
    "- Net force: $u=F$.\n",
    "\n",
    "Rewriting the system gives\n",
    "\n",
    "$$\n",
    "\\begin{bmatrix}\n",
    "\\dot{x}_1\\\\\n",
    "\\dot{x}_2\n",
    "\\end{bmatrix}\n",
    "=\n",
    "\\begin{bmatrix}\n",
    "0 &1\\\\\n",
    "0 &-\\mu/m\n",
    "\\end{bmatrix}\n",
    "\\begin{bmatrix}\n",
    "x_1\\\\\n",
    "x_2\n",
    "\\end{bmatrix}\n",
    "+\n",
    "\\begin{bmatrix}\n",
    "0\\\\1/m\n",
    "\\end{bmatrix}\n",
    "u.\n",
    "$$\n",
    "\n",
    "Suppose we measure the velocity of the cart, we have\n",
    "$$\n",
    "y = \\begin{bmatrix}\n",
    "0 &1\n",
    "\\end{bmatrix}\n",
    "\\begin{bmatrix}\n",
    "x_1\\\\\n",
    "x_2\n",
    "\\end{bmatrix}\n",
    "+v\n",
    "$$\n",
    "where $v$ is measurement noise. This is exacly of the form (1)-(2)."
   ]
  },
  {
   "cell_type": "markdown",
   "metadata": {},
   "source": [
    "### The optimization problem\n",
    "\n",
    "The problem is reformulated to ensure that it is compliant with [Disciplined Parametrized Programming](https://www.cvxpy.org/tutorial/dpp/index.html) (DPP), which is a standard for specifying parameterised convex optimization problems in tools like CVXPY. The simultaneous input-and-state estimation problem (SISE) is defined as follows:\n",
    "$$\n",
    "\\begin{aligned}\n",
    "    &\\underset{X, U, V, W}{\\mathrm{minimize}} \\quad L(U) + \\| Q_v^{-1/2} V \\|_F^2 + \\| Q_w^{-1/2} W \\|_F^2 \\\\\n",
    "    &\\text{subject to} \\\\\n",
    "    &X_{:,1:N} = AX_{:,:N-1} + BU \\\\\n",
    "    &Y = CX + V \\\\\n",
    "    &W_{:,1:} = X_{:,1:N} - AX_{:,:N-1} - BU, \\\\\n",
    "    &W_{:,0} = X_{:,0} - \\hat{x}_0 \\\\\n",
    "    &U \\in \\mathcal{C}.\n",
    "\\end{aligned}\n",
    "$$\n",
    "The regularization term $L(U)$ is defined as\n",
    "$$\n",
    "L(U) = \\| Q_u^{-1/2} U \\|_F^2\n",
    "$$ \n",
    "and the constraint\n",
    "$$\n",
    "|U| \\leq b,\n",
    "$$\n",
    "The subscript notation (e.g., $X_{:,1:N}$ and $X_{:,:N-1}$) works the same way as Python slicing conventions to refer to specific portions of matrices."
   ]
  },
  {
   "cell_type": "code",
   "execution_count": 1,
   "metadata": {},
   "outputs": [],
   "source": [
    "#############################\n",
    "EXPERIMENT_NAME = 'example_cart' # cvxgen files are stored to: codegen/EXPERIMENT_NAME\n",
    "COMPILE = True # True | False\n",
    "#############################\n"
   ]
  },
  {
   "cell_type": "markdown",
   "metadata": {},
   "source": [
    "### The system model"
   ]
  },
  {
   "cell_type": "code",
   "execution_count": 2,
   "metadata": {},
   "outputs": [],
   "source": [
    "import numpy as np\n",
    "from scipy.signal import cont2discrete, StateSpace\n",
    "\n",
    "mu = 2 #friction coefficient\n",
    "m = 10 #mass\n",
    "\n",
    "# Cintinuous-time state space model\n",
    "A = np.array([[0, 1],[0, -mu/m]])\n",
    "B = np.array([[0],[1/m]])\n",
    "C = np.array([[0, 1]])\n",
    "D = np.zeros([0, 0])\n",
    "\n",
    "# convert to discrete time model\n",
    "ts = 0.1\n",
    "dsys = cont2discrete((A, B, C, D), 1, method='zoh')\n",
    "Ad, Bd, Cd, Dd, dt_discrete = dsys\n",
    "\n",
    "# define covariance matrices\n",
    "Q_u = np.array([1])\n",
    "Q_v = np.array([1E-3])\n",
    "Q_w = np.array([[1E-5, 0],[0, 1E-5]])\n",
    "\n",
    "n_states, n_inputs = np.shape(Bd)\n",
    "n_outputs = np.shape(Cd)[0]\n"
   ]
  },
  {
   "cell_type": "markdown",
   "metadata": {},
   "source": [
    "### Simulate the system"
   ]
  },
  {
   "cell_type": "code",
   "execution_count": 3,
   "metadata": {},
   "outputs": [],
   "source": [
    "from scipy.signal import dlsim, lsim\n",
    "\n",
    "N = 100 # batch length\n",
    "\n",
    "# inputs\n",
    "usim = np.zeros((N,n_inputs))\n",
    "usim[int(N/2):] = 1\n",
    "\n",
    "t = np.linspace(0,100,N) #time points\n",
    "sys = StateSpace(A,B,C)\n",
    "tsim, ysim, xsim = lsim(sys, U=usim, T=t)"
   ]
  },
  {
   "cell_type": "markdown",
   "metadata": {},
   "source": [
    "### Plot data"
   ]
  },
  {
   "cell_type": "code",
   "execution_count": 16,
   "metadata": {},
   "outputs": [
    {
     "data": {
      "text/plain": [
       "Text(0.5, 0, 'time (s)')"
      ]
     },
     "execution_count": 16,
     "metadata": {},
     "output_type": "execute_result"
    },
    {
     "data": {
      "image/png": "[encoded data removed]",
      "text/plain": [
       "<Figure size 640x480 with 3 Axes>"
      ]
     },
     "metadata": {},
     "output_type": "display_data"
    }
   ],
   "source": [
    "import matplotlib.pyplot as plt\n",
    "\n",
    "# plot result\n",
    "fig, axs = plt.subplots(3)\n",
    "axs[0].plot(tsim, usim,'r', alpha=0.5, linewidth=2, label='input')\n",
    "axs[0].set_ylabel('Force (N)')\n",
    "axs[1].scatter(tsim, ysim, alpha=0.25, color='k', edgecolor=None)\n",
    "axs[1].set_ylabel('Velocity (m/s)')\n",
    "axs[2].scatter(tsim,xsim[:,0], alpha=0.25, color='k', edgecolor=None)\n",
    "axs[2].set_ylabel('Position (m)')\n",
    "plt.xlabel('time (s)')"
   ]
  },
  {
   "cell_type": "markdown",
   "metadata": {},
   "source": [
    "### Define the MH-SISE problem"
   ]
  },
  {
   "cell_type": "code",
   "execution_count": 5,
   "metadata": {},
   "outputs": [],
   "source": [
    "from mh_sise.problem import Problem\n",
    "\n",
    "p = n_outputs\n",
    "m = n_inputs\n",
    "n = n_states\n",
    "\n",
    "problem = Problem(n, m, p, N)"
   ]
  },
  {
   "cell_type": "markdown",
   "metadata": {},
   "source": [
    "### Add additional parameters"
   ]
  },
  {
   "cell_type": "code",
   "execution_count": 6,
   "metadata": {},
   "outputs": [],
   "source": [
    "#Add a new parameter b\n",
    "problem.add_parameter(shape=1, name='b')\n",
    "problem.add_parameter(shape=m, name='Q_u_inv_sqrt')\n"
   ]
  },
  {
   "cell_type": "markdown",
   "metadata": {},
   "source": [
    "### Add regularization"
   ]
  },
  {
   "cell_type": "code",
   "execution_count": 7,
   "metadata": {},
   "outputs": [],
   "source": [
    "import cvxpy as cp\n",
    "\n",
    "# create th eregularization\n",
    "expression = cp.sum_squares(problem.Q_u_inv_sqrt @ problem.U)\n",
    "problem.add_regularization(expression)"
   ]
  },
  {
   "cell_type": "markdown",
   "metadata": {},
   "source": [
    "### Add constraints"
   ]
  },
  {
   "cell_type": "code",
   "execution_count": 8,
   "metadata": {},
   "outputs": [],
   "source": [
    "# create a new constraints\n",
    "new_constraint = cp.abs(problem.U) <= problem.b\n",
    "\n",
    "# add constraint to problem\n",
    "problem.add_constraints(new_constraint)\n"
   ]
  },
  {
   "cell_type": "markdown",
   "metadata": {},
   "source": [
    "### Assign parameter values"
   ]
  },
  {
   "cell_type": "code",
   "execution_count": 9,
   "metadata": {},
   "outputs": [],
   "source": [
    "from scipy.linalg import sqrtm, inv\n",
    "\n",
    "# assign parameter values\n",
    "problem.assign_parameter_values(\n",
    "    Q_v_inv_sqrt = Q_v**(-1/2),\n",
    "    Q_w_inv_sqrt = sqrtm(inv(Q_w)),\n",
    "    Q_u_inv_sqrt = Q_u**(-1/2),\n",
    "    A = Ad,\n",
    "    B = Bd,\n",
    "    C = Cd,\n",
    "    x0 = np.zeros(n),\n",
    "    y = ysim.reshape((1,N)),\n",
    "    b = np.ones(1)\n",
    ")"
   ]
  },
  {
   "cell_type": "markdown",
   "metadata": {},
   "source": [
    "## Solve with `CVXPY`"
   ]
  },
  {
   "cell_type": "code",
   "execution_count": 10,
   "metadata": {},
   "outputs": [
    {
     "name": "stdout",
     "output_type": "stream",
     "text": [
      "\n",
      "CVXPY\n",
      "Solve time: 15.002 ms\n",
      "Objective function value: 48.994560\n",
      "\n"
     ]
    }
   ],
   "source": [
    "# solve problem\n",
    "problem.solve()\n"
   ]
  },
  {
   "cell_type": "markdown",
   "metadata": {},
   "source": [
    "## Generate high-speed C-code solver\n",
    "Generate code with CVXPYGEN"
   ]
  },
  {
   "cell_type": "code",
   "execution_count": 11,
   "metadata": {},
   "outputs": [
    {
     "name": "stdout",
     "output_type": "stream",
     "text": [
      "Generating code with CVXPYgen ...\n",
      "-----------------------------------------------------------------\n",
      "           OSQP v0.6.3  -  Operator Splitting QP Solver\n",
      "              (c) Bartolomeo Stellato,  Goran Banjac\n",
      "        University of Oxford  -  Stanford University 2021\n",
      "-----------------------------------------------------------------\n",
      "problem:  variables n = 1097, constraints m = 996\n",
      "          nnz(P) + nnz(A) = 3186\n",
      "settings: linear system solver = qdldl,\n",
      "          eps_abs = 1.0e-03, eps_rel = 1.0e-03,\n",
      "          eps_prim_inf = 1.0e-04, eps_dual_inf = 1.0e-04,\n",
      "          rho = 1.00e-01 (adaptive),\n",
      "          sigma = 1.00e-06, alpha = 1.60, max_iter = 4000\n",
      "          check_termination: on (interval 25),\n",
      "          scaling: on, scaled_termination: off\n",
      "          warm start: on, polish: off, time_limit: off\n",
      "\n",
      "Getting workspace from OSQP object... \t\t\t\t[done]\n",
      "Creating target directories... \t\t\t\t\t[done]\n",
      "Copying OSQP sources... \t\t\t\t\t[done]\n",
      "Generating customized code... \t\t\t\t\t[done]\n",
      "Creating project...\n",
      "[done]\n",
      "Compiling Python wrapper... \t\t\t\t\t[done]\n",
      "Copying code-generated Python solver to current directory... \t[done]\n",
      "CVXPYgen finished generating code.\n",
      "Compiling python wrapper with CVXPYgen ... \n",
      "CVXPYgen finished compiling python wrapper.\n"
     ]
    }
   ],
   "source": [
    "from cvxpygen import cpg\n",
    "\n",
    "pth = '../codegen/'\n",
    "if COMPILE:\n",
    "    problem.generate_code(pth, EXPERIMENT_NAME)\n"
   ]
  },
  {
   "cell_type": "markdown",
   "metadata": {},
   "source": [
    "<span style=\"color:red\">Verify that all modules are imported from the correct paths in `cpg_solver.py`!</span>"
   ]
  },
  {
   "cell_type": "markdown",
   "metadata": {},
   "source": [
    "## Solve with genrated C-code"
   ]
  },
  {
   "cell_type": "code",
   "execution_count": 13,
   "metadata": {},
   "outputs": [
    {
     "name": "stdout",
     "output_type": "stream",
     "text": [
      "Problem loaded from path: ../codegen/example_cart/problem.pickle\n",
      "\n",
      "CVXPYgen\n",
      "Solve time: 2.001 ms\n",
      "Objective function value: 48.994662\n",
      "\n"
     ]
    }
   ],
   "source": [
    "from mh_sise.problem import CProblem\n",
    "from codegen.example_cart.cpg_solver import cpg_solve\n",
    "\n",
    "# instantiate problem class saved in path\n",
    "cproblem = CProblem(pth='../codegen/example_cart/')\n",
    "\n",
    "# assign parameter values\n",
    "cproblem.assign_parameter_values(\n",
    "    Q_v_inv_sqrt = Q_v**(-1/2),\n",
    "    Q_w_inv_sqrt = sqrtm(inv(Q_w)),\n",
    "    Q_u_inv_sqrt = Q_u**(-1/2),\n",
    "    A = Ad,\n",
    "    B = Bd,\n",
    "    C = Cd,\n",
    "    x0 = np.zeros(n),\n",
    "    y = ysim.reshape((1,N)),\n",
    "    b = np.ones(1)\n",
    ")\n",
    "\n",
    "#solve problem\n",
    "cproblem.solve(cpg_solve)\n"
   ]
  },
  {
   "cell_type": "markdown",
   "metadata": {},
   "source": [
    "## Plot results"
   ]
  },
  {
   "cell_type": "code",
   "execution_count": 17,
   "metadata": {},
   "outputs": [
    {
     "data": {
      "text/plain": [
       "(-0.1, 1.1)"
      ]
     },
     "execution_count": 17,
     "metadata": {},
     "output_type": "execute_result"
    },
    {
     "data": {
      "image/png": "[encoded data removed]",
      "text/plain": [
       "<Figure size 640x480 with 1 Axes>"
      ]
     },
     "metadata": {},
     "output_type": "display_data"
    }
   ],
   "source": [
    "import matplotlib.pyplot as plt\n",
    "\n",
    "solution = problem.get_variable_values()\n",
    "csolution = cproblem.get_variable_values()\n",
    "\n",
    "# plot result\n",
    "fig, axs = plt.subplots(1)\n",
    "axs.plot(tsim, usim,'k', alpha=0.5, linewidth=2, label='true input')\n",
    "axs.plot(tsim[:N-1], solution['U'].T,'r', alpha=0.5, linewidth=2, label='estimated input, CVXPY')\n",
    "axs.plot(tsim[:N-1], csolution['U'].T,'b--', alpha=0.5, linewidth=2, label='estimated input, CVXPYGEN')\n",
    "axs.set_ylabel('Force (N)')\n",
    "axs.set_xlabel('Time (s)')\n",
    "axs.set_ylim([-1, 1])\n",
    "axs.legend()\n",
    "axs.set_ylim((-0.1, 1.1))"
   ]
  },
  {
   "cell_type": "code",
   "execution_count": null,
   "metadata": {},
   "outputs": [],
   "source": []
  }
 ],
 "metadata": {
  "kernelspec": {
   "display_name": "Python 3",
   "language": "python",
   "name": "python3"
  },
  "language_info": {
   "codemirror_mode": {
    "name": "ipython",
    "version": 3
   },
   "file_extension": ".py",
   "mimetype": "text/x-python",
   "name": "python",
   "nbconvert_exporter": "python",
   "pygments_lexer": "ipython3",
   "version": "3.12.4"
  }
 },
 "nbformat": 4,
 "nbformat_minor": 2
}
